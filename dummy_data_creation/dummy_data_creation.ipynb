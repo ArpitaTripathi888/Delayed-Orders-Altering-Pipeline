{
 "cells": [
  {
   "cell_type": "code",
   "execution_count": 13,
   "id": "af64a5ad",
   "metadata": {},
   "outputs": [],
   "source": [
    "#importing important libraries\n",
    "import pandas as pd\n",
    "from datetime import datetime, timedelta\n",
    "import random"
   ]
  },
  {
   "cell_type": "code",
   "execution_count": 8,
   "id": "a6d3de9a",
   "metadata": {
    "vscode": {
     "languageId": "javascript"
    }
   },
   "outputs": [],
   "source": [
    "#Generating dummy data for orders\n",
    "    \n",
    "orders = pd.DataFrame({\n",
    "    'order_id': [f'0{i}' for i in range(1, 21)],\n",
    "    'customer_id': [f'C{random.randint(1,5)}'for _ in range(20)],\n",
    "    'order_date': pd.date_range(start = '2024-01-01', periods = 20, freq = 'D')\n",
    "})\n",
    "\n",
    "#saving the generated data to a csv file \n",
    "orders.to_csv('orders.csv', index=False)\n"
   ]
  },
  {
   "cell_type": "code",
   "execution_count": 16,
   "id": "5cbd0749",
   "metadata": {
    "vscode": {
     "languageId": "javascript"
    }
   },
   "outputs": [],
   "source": [
    "#Generating dummy data for Customers \n",
    "\n",
    "customers= pd.DataFrame({\n",
    "    'customer_id': [f'C{i}' for i in range(1,6)],\n",
    "    'name':['Alice','Charlie','Bob','David','Eva'],\n",
    "    'email':[f'user{i}@exapmle.com' for i in range(1,6)]\n",
    "})\n",
    "\n",
    "#saving the generated data to a csv file \n",
    "customers.to_csv('customers.csv', index=False)"
   ]
  },
  {
   "cell_type": "code",
   "execution_count": 19,
   "id": "c057f625",
   "metadata": {
    "vscode": {
     "languageId": "javascript"
    }
   },
   "outputs": [],
   "source": [
    "#Generating dummy data for Shipments\n",
    "\n",
    "statuses=['shipped','delivered']\n",
    "\n",
    "shipments= pd.DataFrame({\n",
    "    'shipment_id':[f'S{i}' for i in range(1,21)],\n",
    "    'order_id': orders['order_id'],\n",
    "    'status':[random.choice(statuses) for _ in range(20)],\n",
    "    'shipped_at': pd.date_range(start='2024-01-02', periods=20, freq='D'),\n",
    "    'delivered_at': pd.date_range(start='2024-01-03', periods=20, freq='D')\n",
    "})\n",
    "\n",
    "#saving the generated data to a csv file\n",
    "shipments.to_csv('shipments.csv',index=False)"
   ]
  }
 ],
 "metadata": {
  "kernelspec": {
   "display_name": "Python 3",
   "language": "python",
   "name": "python3"
  },
  "language_info": {
   "codemirror_mode": {
    "name": "ipython",
    "version": 3
   },
   "file_extension": ".py",
   "mimetype": "text/x-python",
   "name": "python",
   "nbconvert_exporter": "python",
   "pygments_lexer": "ipython3",
   "version": "3.11.0"
  }
 },
 "nbformat": 4,
 "nbformat_minor": 5
}
